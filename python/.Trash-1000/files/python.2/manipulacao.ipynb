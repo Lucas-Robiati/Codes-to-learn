{
 "cells": [
  {
   "cell_type": "code",
   "execution_count": 8,
   "metadata": {},
   "outputs": [],
   "source": [
    "import psycopg2 as py\n",
    "\n",
    "class DB_deputados():\n",
    "    \n",
    "    def __init__(self, nome_bd: str) -> None:\n",
    "        self.nome_db = nome_bd\n",
    "    \n",
    "    def connect(self) -> py:\n",
    "        connection = py.connect(host = '127.0.0.1',database = self.nome_db, user= 'postgres', password = 'ifms')\n",
    "        return connection\n",
    "    \n",
    "    def criar_database(self):\n",
    "        conction = py.connect(host=\"127.0.0.1\", user=\"postgres\", password=\"ifms\", port=5432)\n",
    "     \n",
    "        conction.autocommit = True\n",
    "     \n",
    "        cursor = conction.cursor()\n",
    "     \n",
    "        cursor.execute(\"CREATE DATABASE \"+ self.nome_db)\n",
    "     \n",
    "        conction.close()\n",
    "    def run_sql(self, sql: str):\n",
    "        conecton = self.connect()\n",
    "        \n",
    "        cursor = conecton.cursor()\n",
    "        \n",
    "        cursor.execute(sql)\n",
    "        \n",
    "        conecton.commit()\n",
    "        conecton.close()\n",
    "        "
   ]
  },
  {
   "cell_type": "code",
   "execution_count": 10,
   "metadata": {},
   "outputs": [],
   "source": [
    "database = DB_deputados(\"deputados\")\n",
    "\n",
    "#database.criar_database()"
   ]
  },
  {
   "cell_type": "code",
   "execution_count": 12,
   "metadata": {},
   "outputs": [],
   "source": [
    "sql = '''DROP TABLE IF EXISTS Deputados;DROP TABLE IF EXISTS Partidos;'''\n",
    "database.run_sql(sql)"
   ]
  },
  {
   "cell_type": "code",
   "execution_count": 17,
   "metadata": {},
   "outputs": [],
   "source": [
    "sql = '''CREATE TABLE IF NOT EXISTS Partidos (id varchar(2) NOT NULL PRIMARY KEY, nome varchar(14) NOT NULL);'''\n",
    "database.run_sql(sql)"
   ]
  },
  {
   "cell_type": "code",
   "execution_count": 21,
   "metadata": {},
   "outputs": [],
   "source": [
    "sql = '''CREATE TABLE IF NOT EXISTS Deputados(id varchar(7) NOT NULL PRIMARY KEY, nome varchar(150) NOT NULL, \n",
    "    partidoId varchar(2) NOT NULL REFERENCES Partidos(id),\n",
    "     siglaUF varchar(2) NOT NULL,\n",
    "     idLegislatura varchar(3));'''\n",
    "database.run_sql(sql)\n"
   ]
  },
  {
   "cell_type": "code",
   "execution_count": 22,
   "metadata": {},
   "outputs": [],
   "source": [
    "sql = '''COPY Partidos(id, nome) FROM '/home/aluno/python/partidos.csv' csv header delimiter ',' '''\n",
    "database.run_sql(sql)"
   ]
  },
  {
   "cell_type": "code",
   "execution_count": 24,
   "metadata": {},
   "outputs": [],
   "source": [
    "sql ='''COPY Deputados(id, nome, partidoId, siglaUf, idLegislatura) FROM '/home/aluno/python/deputados.csv' csv header delimiter ',' '''\n",
    "database.run_sql(sql)"
   ]
  }
 ],
 "metadata": {
  "interpreter": {
   "hash": "916dbcbb3f70747c44a77c7bcd40155683ae19c65e1c03b4aa3499c5328201f1"
  },
  "kernelspec": {
   "display_name": "Python 3.9.2 64-bit",
   "language": "python",
   "name": "python3"
  },
  "language_info": {
   "codemirror_mode": {
    "name": "ipython",
    "version": 3
   },
   "file_extension": ".py",
   "mimetype": "text/x-python",
   "name": "python",
   "nbconvert_exporter": "python",
   "pygments_lexer": "ipython3",
   "version": "3.9.2"
  },
  "orig_nbformat": 4
 },
 "nbformat": 4,
 "nbformat_minor": 2
}
